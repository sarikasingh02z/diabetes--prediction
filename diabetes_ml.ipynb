{
 "cells": [
  {
   "cell_type": "code",
   "execution_count": 8,
   "id": "73bc1cf3-1a8c-442c-9f34-c01c23e6c5ed",
   "metadata": {},
   "outputs": [],
   "source": [
    "\n",
    "import numpy as np\n",
    "import pandas as pd\n",
    "from sklearn.preprocessing import MinMaxScaler, StandardScaler\n",
    "from sklearn.model_selection import train_test_split\n",
    "from sklearn.linear_model import LogisticRegression\n",
    "from sklearn.neighbors import KNeighborsClassifier\n",
    "from sklearn import svm\n",
    "from sklearn.metrics import accuracy_score\n",
    "from sklearn.impute import KNNImputer\n",
    "import gradio as gr\n",
    "import joblib"
   ]
  },
  {
   "cell_type": "code",
   "execution_count": 9,
   "id": "47286744-7cb5-4f90-a59e-683065fe5e60",
   "metadata": {},
   "outputs": [
    {
     "name": "stdout",
     "output_type": "stream",
     "text": [
      "(768, 9)\n",
      "value count Outcome\n",
      "0    500\n",
      "1    268\n",
      "Name: count, dtype: int64\n",
      "mean outcome          Pregnancies     Glucose  BloodPressure  SkinThickness     Insulin  \\\n",
      "Outcome                                                                      \n",
      "0           3.298000  109.980000      68.184000      19.664000   68.792000   \n",
      "1           4.865672  141.257463      70.824627      22.164179  100.335821   \n",
      "\n",
      "               BMI  DiabetesPedigreeFunction        Age  \n",
      "Outcome                                                  \n",
      "0        30.304200                  0.429734  31.190000  \n",
      "1        35.142537                  0.550500  37.067164  \n",
      "medical solumns    Glucose  BloodPressure  DiabetesPedigreeFunction  Insulin   BMI  Outcome\n",
      "0      148             72                     0.627        0  33.6        1\n",
      "1       85             66                     0.351        0  26.6        0\n",
      "2      183             64                     0.672        0  23.3        1\n",
      "3       89             66                     0.167       94  28.1        0\n",
      "4      137             40                     2.288      168  43.1        1\n",
      "problem columns:['Glucose', 'BloodPressure', 'Insulin', 'BMI']\n"
     ]
    }
   ],
   "source": [
    "url=\"https://raw.githubusercontent.com/jbrownlee/Datasets/refs/heads/master/pima-indians-diabetes.data.csv\"\n",
    "column_names=['Pregnancies','Glucose','BloodPressure','SkinThickness','Insulin','BMI','DiabetesPedigreeFunction','Age','Outcome']\n",
    "\n",
    "df=pd.read_csv(url,names=column_names)\n",
    "\n",
    "medical_col=['Glucose','BloodPressure','DiabetesPedigreeFunction','Insulin','BMI']\n",
    "target_col='Outcome'\n",
    "df_medical=df[medical_col+[target_col]].copy()\n",
    "df[medical_col].to_csv('diabetes_data.csv',index=False)\n",
    "\n",
    "print(df.shape)\n",
    "print(\"value count\",df['Outcome'].value_counts())\n",
    "print(\"mean outcome\",df.groupby('Outcome').mean())\n",
    "print(\"medical solumns\",df_medical.head())\n",
    "\n",
    "#problem columns with value 0 in it\n",
    "problem_col=[col for col in medical_col if (df[col]==0).any()]\n",
    "print(f\"problem columns:{problem_col}\")"
   ]
  },
  {
   "cell_type": "code",
   "execution_count": 10,
   "id": "e3e72833-6063-4eed-9e90-1a5110413cbd",
   "metadata": {},
   "outputs": [
    {
     "name": "stdout",
     "output_type": "stream",
     "text": [
      "missing values before imputation: 425\n",
      "missing values after imputation: 0\n"
     ]
    }
   ],
   "source": [
    "\n",
    "df_medical=df[medical_col+[target_col]].copy()\n",
    "for col in medical_col:\n",
    "    df_medical[col]=df_medical[col].replace(0,np.nan)\n",
    "\n",
    "imputer=KNNImputer(n_neighbors=5)\n",
    "print(\"missing values before imputation:\", df_medical[medical_col].isnull().sum().sum())\n",
    "df_medical[medical_col]=imputer.fit_transform(df_medical[medical_col])\n",
    "print(\"missing values after imputation:\", df_medical[medical_col].isnull().sum().sum())"
   ]
  },
  {
   "cell_type": "code",
   "execution_count": 11,
   "id": "04dc80f8-eb0a-4b52-acae-612daebb674a",
   "metadata": {},
   "outputs": [
    {
     "name": "stdout",
     "output_type": "stream",
     "text": [
      "training set: (614, 5), test set:(154, 5)\n"
     ]
    }
   ],
   "source": [
    "x=df_medical[medical_col]\n",
    "y=df_medical[target_col]\n",
    "\n",
    "x_train,x_test,y_train,y_test=train_test_split(x, y, test_size=0.2,random_state=42,stratify=y)\n",
    "\n",
    "scaler=StandardScaler()\n",
    "x_train_scaled=scaler.fit_transform(x_train)\n",
    "x_test_scaled=scaler.transform(x_test)\n",
    "print(f\"training set: {x_train.shape}, test set:{x_test.shape}\")"
   ]
  },
  {
   "cell_type": "code",
   "execution_count": 12,
   "id": "2a4c82c5-617e-43a7-8269-8726386d4948",
   "metadata": {},
   "outputs": [
    {
     "name": "stdout",
     "output_type": "stream",
     "text": [
      "Logistic Regression:0.7273\n",
      "KNN:0.7078\n",
      "svm:0.7273\n",
      "\n",
      "best model:Logistic Regression with accuracy:0.7273\n",
      " Best model saved as 'best_diabetes_model.pkl'\n",
      "Scaler saved as 'scaler.pkl'\n"
     ]
    }
   ],
   "source": [
    "models={\n",
    "    'Logistic Regression': LogisticRegression(),\n",
    "    'KNN':KNeighborsClassifier(n_neighbors=5),\n",
    "    'svm':svm.SVC()\n",
    "}\n",
    "results={}\n",
    "for name,model in models.items():\n",
    "    model.fit(x_train_scaled,y_train)\n",
    "    y_pred=model.predict(x_test_scaled)\n",
    "    accuracy=accuracy_score(y_test,y_pred)\n",
    "    results[name]=accuracy\n",
    "    print(f\"{name}:{accuracy:.4f}\")\n",
    "\n",
    "best_model=max(results,key=results.get)\n",
    "print(f\"\\nbest model:{best_model} with accuracy:{results[best_model]:.4f}\")\n",
    "\n",
    "best_algo=models[best_model]\n",
    "joblib.dump(best_algo,'best_diabetes_model.pkl')\n",
    "print(\" Best model saved as 'best_diabetes_model.pkl'\")\n",
    "\n",
    "joblib.dump(scaler,'scaler.pkl')\n",
    "print(\"Scaler saved as 'scaler.pkl'\")\n",
    "\n"
   ]
  },
  {
   "cell_type": "code",
   "execution_count": 13,
   "id": "0be56643-0c83-48c2-8333-0c1f603b7ecf",
   "metadata": {},
   "outputs": [
    {
     "name": "stdout",
     "output_type": "stream",
     "text": [
      "cleaned medical data saved as 'diabetes-medical_cleaned.csv'\n"
     ]
    }
   ],
   "source": [
    "df_medical.to_csv('diabetes_medical_cleaned.csv',index=False)\n",
    "print(\"cleaned medical data saved as 'diabetes-medical_cleaned.csv'\")"
   ]
  },
  {
   "cell_type": "code",
   "execution_count": 14,
   "id": "3590d05e-fda0-4b98-adc2-58e9f893eaa4",
   "metadata": {},
   "outputs": [
    {
     "name": "stdout",
     "output_type": "stream",
     "text": [
      "* Running on local URL:  http://127.0.0.1:7861\n",
      "* Running on public URL: https://bedd7431a7576ccdba.gradio.live\n",
      "\n",
      "This share link expires in 1 week. For free permanent hosting and GPU upgrades, run `gradio deploy` from the terminal in the working directory to deploy to Hugging Face Spaces (https://huggingface.co/spaces)\n"
     ]
    },
    {
     "data": {
      "text/html": [
       "<div><iframe src=\"https://bedd7431a7576ccdba.gradio.live\" width=\"100%\" height=\"500\" allow=\"autoplay; camera; microphone; clipboard-read; clipboard-write;\" frameborder=\"0\" allowfullscreen></iframe></div>"
      ],
      "text/plain": [
       "<IPython.core.display.HTML object>"
      ]
     },
     "metadata": {},
     "output_type": "display_data"
    },
    {
     "data": {
      "text/plain": []
     },
     "execution_count": 14,
     "metadata": {},
     "output_type": "execute_result"
    }
   ],
   "source": [
    "import joblib\n",
    "best_algo=joblib.load('best_diabetes_model.pkl')\n",
    "scaler=joblib.load('scaler.pkl')\n",
    "\n",
    "def predict_diabetes(glucose, bp, dpf, insulin, bmi):\n",
    "    features = np.array([[glucose, bp, dpf, insulin, bmi]])\n",
    "    features_scaled = scaler.transform(features)  \n",
    "    prediction = best_algo.predict(features_scaled)[0] \n",
    "    probability = best_algo.predict_proba(features_scaled)[0]\n",
    "\n",
    "    if prediction == 1:\n",
    "      return f\" DIABETIC ({probability[1]*100:.1f}% confidence)\"\n",
    "    else:\n",
    "      return f\" HEALTHY ({probability[0]*100:.1f}% confidence)\"\n",
    "with gr.Blocks(theme=gr.themes.Soft()) as demo:\n",
    "    \n",
    "    gr.Markdown(\n",
    "    \"\"\"\n",
    "     Diabetes Prediction test\n",
    "    \n",
    "     Welcome! Click the button below and enter your medical details to begin your diabetes prediction.\n",
    "    \n",
    "    \"\"\")\n",
    "    \n",
    "    start_btn = gr.Button(\" Test Begin \", size=\"lg\", variant=\"primary\")\n",
    "    \n",
    "    with gr.Row(visible=False) as assessment_section:\n",
    "        \n",
    "        # LEFT COLUMN - Medical Inputs\n",
    "        with gr.Column():\n",
    "            gr.Markdown(\"Medical Parameters\")\n",
    "            \n",
    "            glucose = gr.Slider(70, 200, value=120, label=\"Glucose Level\")\n",
    "            bp = gr.Slider(60, 120, value=80, label=\"Blood Pressure\")\n",
    "            \n",
    "            # MIDDLE SECTION - Diabetes Pedigree\n",
    "            gr.Markdown(\"---\")\n",
    "            gr.Markdown(\"Diabetes Pedigree Function\")\n",
    "            dpf = gr.Slider(0.0, 2.0, value=0.5, label=\"Genetic Risk Score\")\n",
    "            gr.Markdown(\"---\")\n",
    "            \n",
    "            insulin = gr.Slider(0, 300, value=100, label=\"Insulin Level\")\n",
    "            bmi = gr.Slider(15, 40, value=25, label=\"BMI\")\n",
    "        \n",
    "        # RIGHT COLUMN - Results\n",
    "        with gr.Column():\n",
    "            gr.Markdown(\"Results\")\n",
    "            predict_btn = gr.Button(\"Analyze Diabetes Risk\", size=\"lg\", variant=\"secondary\")\n",
    "            result = gr.Textbox(label=\"Risk Assessment\", interactive=False, lines=4)\n",
    "\n",
    "    \n",
    "        with gr.Column(visible=True) as note_section:\n",
    "            gr.Markdown(\n",
    "                \"\"\"\n",
    "                Important Note:\n",
    "                -This test is for eductional and testing purpose only hence this tool provides bsic assessment based on machine learning, it doesnt replace experts for accurate diagnosis.Always consult with healthcare provider for accurate diagnosis.\n",
    "                \"\"\")\n",
    "            \n",
    "    def show_assessment():\n",
    "        return gr.update(visible=True)\n",
    "    \n",
    "    start_btn.click(\n",
    "        fn=show_assessment,\n",
    "        outputs=assessment_section\n",
    "    )\n",
    "    \n",
    "    predict_btn.click(\n",
    "        fn=predict_diabetes,\n",
    "        inputs=[glucose, bp, dpf, insulin, bmi],\n",
    "        outputs=result\n",
    "    )\n",
    "\n",
    "demo.launch(share=True)\n"
   ]
  },
  {
   "cell_type": "code",
   "execution_count": 1,
   "id": "fd22b22d-3063-4407-a9c5-81652e8c3014",
   "metadata": {},
   "outputs": [
    {
     "name": "stdout",
     "output_type": "stream",
     "text": [
      "your proect is in: C:\\Users\\Sarika\n"
     ]
    }
   ],
   "source": [
    "import os\n",
    "print(\"your proect is in:\",os.getcwd())"
   ]
  },
  {
   "cell_type": "code",
   "execution_count": null,
   "id": "64311a1e-3ae0-4f5b-bd10-d5a562b09ca9",
   "metadata": {},
   "outputs": [],
   "source": []
  },
  {
   "cell_type": "code",
   "execution_count": null,
   "id": "b3bad2f0-b827-437f-be4e-f4f1c1e78ba6",
   "metadata": {},
   "outputs": [],
   "source": []
  },
  {
   "cell_type": "code",
   "execution_count": null,
   "id": "837bda89-1078-44a3-9473-ec25bb12d556",
   "metadata": {},
   "outputs": [],
   "source": []
  }
 ],
 "metadata": {
  "kernelspec": {
   "display_name": "Python [conda env:base] *",
   "language": "python",
   "name": "conda-base-py"
  },
  "language_info": {
   "codemirror_mode": {
    "name": "ipython",
    "version": 3
   },
   "file_extension": ".py",
   "mimetype": "text/x-python",
   "name": "python",
   "nbconvert_exporter": "python",
   "pygments_lexer": "ipython3",
   "version": "3.13.5"
  }
 },
 "nbformat": 4,
 "nbformat_minor": 5
}
